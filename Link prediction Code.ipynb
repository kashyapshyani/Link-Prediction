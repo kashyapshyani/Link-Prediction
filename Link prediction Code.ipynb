{
  "nbformat": 4,
  "nbformat_minor": 0,
  "metadata": {
    "colab": {
      "name": "75 training.ipynb",
      "provenance": [],
      "collapsed_sections": [],
      "toc_visible": true
    },
    "kernelspec": {
      "name": "python2",
      "display_name": "Python 2"
    }
  },
  "cells": [
    {
      "cell_type": "code",
      "metadata": {
        "id": "o0XV2CF_plVB",
        "colab_type": "code",
        "outputId": "befc27ae-2a08-4f78-9175-2af3c69fc854",
        "colab": {
          "base_uri": "https://localhost:8080/",
          "height": 164
        }
      },
      "source": [
        "!pip install python-igraph"
      ],
      "execution_count": 1,
      "outputs": [
        {
          "output_type": "stream",
          "text": [
            "Collecting python-igraph\n",
            "\u001b[?25l  Downloading https://files.pythonhosted.org/packages/0f/90/f1de9e450529205261e9daee901edf25d03153b70e8b6e545be2eaef5d62/python_igraph-0.8.0-cp27-cp27mu-manylinux2010_x86_64.whl (3.1MB)\n",
            "\u001b[K     |████████████████████████████████| 3.1MB 2.8MB/s \n",
            "\u001b[?25hCollecting texttable>=1.6.2\n",
            "  Downloading https://files.pythonhosted.org/packages/ec/b1/8a1c659ce288bf771d5b1c7cae318ada466f73bd0e16df8d86f27a2a3ee7/texttable-1.6.2-py2.py3-none-any.whl\n",
            "Installing collected packages: texttable, python-igraph\n",
            "Successfully installed python-igraph-0.8.0 texttable-1.6.2\n"
          ],
          "name": "stdout"
        }
      ]
    },
    {
      "cell_type": "code",
      "metadata": {
        "id": "qdDKAU5OvXts",
        "colab_type": "code",
        "outputId": "ad8a0f23-c30a-4d80-a977-d6b461e1cff0",
        "colab": {
          "base_uri": "https://localhost:8080/",
          "height": 90
        }
      },
      "source": [
        "!git clone https://github.com/pranavkulkarni/Link_prediction_social_network.git"
      ],
      "execution_count": 2,
      "outputs": [
        {
          "output_type": "stream",
          "text": [
            "Cloning into 'Link_prediction_social_network'...\n",
            "remote: Enumerating objects: 11, done.\u001b[K\n",
            "remote: Total 11 (delta 0), reused 0 (delta 0), pack-reused 11\u001b[K\n",
            "Unpacking objects: 100% (11/11), done.\n"
          ],
          "name": "stdout"
        }
      ]
    },
    {
      "cell_type": "code",
      "metadata": {
        "id": "MJoOSTbQkn9r",
        "colab_type": "code",
        "colab": {}
      },
      "source": [
        "from igraph import *\n",
        "from math import *\n",
        "import sys\n",
        "import numpy as np\n",
        "import os\n",
        "import glob\n",
        "import random\n",
        "from random import shuffle\n",
        "from random import seed\n",
        "import matplotlib.pyplot as plt\n",
        "import time\n",
        "import datetime\n",
        "import collections"
      ],
      "execution_count": 0,
      "outputs": []
    },
    {
      "cell_type": "code",
      "metadata": {
        "id": "icURiabBmuMg",
        "colab_type": "code",
        "colab": {}
      },
      "source": [
        "# Constants\n",
        "k = 5 \t\t# Top k recomendations for a target user (Used for testing model-accuracy metrics)\n",
        "maxl = 2 \t# Number of iterations for Katz Algorithm (beta^maxl ~ 0)\n",
        "beta = 0.1 \t# The damping factor for Katz Algorithm\n",
        "\n",
        "preli = []\n",
        "reli = []"
      ],
      "execution_count": 0,
      "outputs": []
    },
    {
      "cell_type": "code",
      "metadata": {
        "id": "3LmMZIzBm0zh",
        "colab_type": "code",
        "colab": {}
      },
      "source": [
        "# load edge-list from file\n",
        "def get_edge_list(dataset_path):\n",
        "\tdata_file = open(dataset_path)\n",
        "\tedge_list = map(lambda x:tuple(map(int,x.split())),data_file.read().split(\"\\n\")[:-1])\n",
        "\tdata_file.close()\n",
        "\treturn edge_list"
      ],
      "execution_count": 0,
      "outputs": []
    },
    {
      "cell_type": "code",
      "metadata": {
        "id": "8KnJ4yfVm5av",
        "colab_type": "code",
        "colab": {}
      },
      "source": [
        "# Get the similarity product for a path\n",
        "# (product of path-step similarities)\n",
        "def get_sim_product(sim, shortest_path):\n",
        "\tprod = 1\n",
        "\tfor i in range(len(shortest_path) - 1):\n",
        "\t\tprod *= sim[shortest_path[i]][shortest_path[i+1]]\n",
        "\treturn round(prod,3)"
      ],
      "execution_count": 0,
      "outputs": []
    },
    {
      "cell_type": "code",
      "metadata": {
        "id": "ThhQv_uom8we",
        "colab_type": "code",
        "colab": {}
      },
      "source": [
        "# Filter out, Sort and Get top-K predictions\n",
        "def get_top_k_recommendations(graph,sim,i,k):\n",
        "\treturn  sorted(filter(lambda x: i!=x and graph[i,x] != 1,range(len(sim[i]))) , key=lambda x: sim[i][x],reverse=True)[0:k]\n"
      ],
      "execution_count": 0,
      "outputs": []
    },
    {
      "cell_type": "code",
      "metadata": {
        "id": "M5ouNvc0nAoG",
        "colab_type": "code",
        "colab": {}
      },
      "source": [
        "# Convert edge_list into a set of constituent edges\n",
        "def get_vertices_set(edge_list):\n",
        "\tres = set()\n",
        "\tfor x,y in edge_list:\n",
        "\t\tres.add(x)\n",
        "\t\tres.add(y)\n",
        "\treturn res"
      ],
      "execution_count": 0,
      "outputs": []
    },
    {
      "cell_type": "code",
      "metadata": {
        "id": "gtv6CKIEnKrt",
        "colab_type": "code",
        "colab": {}
      },
      "source": [
        "# Split the dataset into two parts (50-50 split)\n",
        "# Create 2 graphs, 1 used for training and the other for testing\n",
        "def split_data(edge_list):\n",
        "\trandom.seed(350)\n",
        "\tindexes = range(len(edge_list))\n",
        "\ttest_indexes = set(random.sample(indexes, int(len(indexes)/4))) # removing 50% edges from test data\n",
        "\ttrain_indexes = set(indexes).difference(test_indexes)\n",
        "\ttest_list = [edge_list[i] for i in test_indexes]\n",
        "\tprint(\"Len of test data \",len(test_list))\n",
        "\ttrain_list = [edge_list[i] for i in train_indexes]\n",
        "\tprint(\"Len of train data \",len(train_list))\n",
        "\treturn train_list,test_list"
      ],
      "execution_count": 0,
      "outputs": []
    },
    {
      "cell_type": "code",
      "metadata": {
        "id": "WoPMb_EjnN0N",
        "colab_type": "code",
        "colab": {}
      },
      "source": [
        "# Calculates accuracy metrics (Precision & Recall),\n",
        "# for a given similarity-model against a test-graph.\n",
        "\n",
        "def print_precision_and_recall(sim,train_graph,test_graph,test_vertices_set,train_vertices_set):\n",
        "\tprecision = recall = c = 0\n",
        "\tfor i in test_vertices_set:\n",
        "\t\tif i in train_vertices_set:\n",
        "\t\t\tactual_friends_of_i = set(test_graph.neighbors(i))\n",
        "\n",
        "\t\t\t# Handles case where test-data < k\n",
        "\t\t\tif len(actual_friends_of_i) < k:\n",
        "\t\t\t\tk2 = len(actual_friends_of_i)\n",
        "\t\t\telse:\n",
        "\t\t\t\tk2 = k\n",
        "\n",
        "\t\t\ttop_k = set(get_top_k_recommendations(train_graph,sim,i,k2))\n",
        "\n",
        "\t\t\tprecision += len(top_k.intersection(actual_friends_of_i))/float(k2)\n",
        "\t\t\trecall += len(top_k.intersection(actual_friends_of_i))/float(len(actual_friends_of_i))\n",
        "\t\t\tc += 1\n",
        "\t# print(\"type pre = \", type(precision),\" c = \",type(c),\" recall = \",type(recall))\n",
        "\tpreli.append(precision/c)\n",
        "\treli.append(recall/c)\n",
        "\tprint (\"Precision is : \" + str(precision/c))\n",
        "\tprint (\"Recall is : \" + str(recall/c))\n"
      ],
      "execution_count": 0,
      "outputs": []
    },
    {
      "cell_type": "code",
      "metadata": {
        "id": "-fBeEhVZnQLs",
        "colab_type": "code",
        "colab": {}
      },
      "source": [
        "# http://be.amazd.com/link-prediction/\n",
        "def similarity(graph, i, j, method):\n",
        "\tif method == \"common_neighbors\":\n",
        "\t\treturn len(set(graph.neighbors(i)).intersection(set(graph.neighbors(j))))\n",
        "\telif method == \"jaccard\":\n",
        "\t\treturn len(set(graph.neighbors(i)).intersection(set(graph.neighbors(j))))/float(len(set(graph.neighbors(i)).union(set(graph.neighbors(j)))))\n",
        "\telif method == \"adamic_adar\":\n",
        "\t\treturn sum([1.0/math.log(graph.degree(v)) for v in set(graph.neighbors(i)).intersection(set(graph.neighbors(j)))])\n",
        "\telif method == \"preferential_attachment\":\n",
        "\t\treturn graph.degree(i) * graph.degree(j)\n",
        "\telif method == \"friendtns\":\n",
        "\t\treturn round((1.0/(graph.degree(i) + graph.degree(j) - 1.0)),3)"
      ],
      "execution_count": 0,
      "outputs": []
    },
    {
      "cell_type": "markdown",
      "metadata": {
        "id": "zMtJMEs2ob6S",
        "colab_type": "text"
      },
      "source": [
        "###################################\n",
        "### Methods for Link Prediction ###\n",
        "###################################"
      ]
    },
    {
      "cell_type": "code",
      "metadata": {
        "id": "6jVt887wohYF",
        "colab_type": "code",
        "colab": {}
      },
      "source": [
        "def local_methods(edge_list,method):\n",
        "\ttrain_list, test_list = split_data(edge_list)\n",
        "\tst, test_list = split_data(edge_list)\n",
        "\ttrain_graph = Graph(train_list)\n",
        "\ttest_graph = Graph(test_list)\n",
        "\ttrain_n =  train_graph.vcount() # This is maximum of the vertex id + 1\n",
        "\ttrain_vertices_set = get_vertices_set(train_list) # Need this because we have to only consider target users who are present in this train_vertices_set\n",
        "\ttest_vertices_set = get_vertices_set(test_list) # Set of target users\n",
        "\n",
        "\tsim = [[0 for i in range(train_n)] for j in range(train_n)]\n",
        "\tfor i in range(train_n):\n",
        "\t\tfor j in range(train_n):\n",
        "\t\t\tif i!=j and i in train_vertices_set and j in train_vertices_set:\n",
        "\t\t\t\tsim[i][j] = similarity(train_graph,i,j,method)\n",
        "\n",
        "\tprint_precision_and_recall(sim,train_graph,test_graph,test_vertices_set,train_vertices_set)"
      ],
      "execution_count": 0,
      "outputs": []
    },
    {
      "cell_type": "code",
      "metadata": {
        "id": "aAq1NM1porNn",
        "colab_type": "code",
        "colab": {}
      },
      "source": [
        "# Calculates the Katz Similarity measure for a node pair (i,j)\n",
        "def katz_similarity(katzDict,i,j):\n",
        "\tl = 1\n",
        "\tneighbors = katzDict[i]\n",
        "\tscore = 0\n",
        "\n",
        "\twhile l <= maxl:\n",
        "\t\tnumberOfPaths = neighbors.count(j)\n",
        "\t\tif numberOfPaths > 0:\n",
        "\t\t\tscore += (beta**l)*numberOfPaths\n",
        "\n",
        "\t\tneighborsForNextLoop = []\n",
        "\t\tfor k in neighbors:\n",
        "\t\t\tneighborsForNextLoop += katzDict[k]\n",
        "\t\tneighbors = neighborsForNextLoop\n",
        "\t\tl += 1\n",
        "\n",
        "\treturn score\n"
      ],
      "execution_count": 0,
      "outputs": []
    },
    {
      "cell_type": "code",
      "metadata": {
        "id": "rFgpXtJWowSl",
        "colab_type": "code",
        "colab": {}
      },
      "source": [
        "# Implementation of the Katz algorithm\n",
        "def katz(edge_list):\n",
        "\ttrain_list, test_list = split_data(edge_list)\n",
        "\ttrain_graph = Graph(train_list)\n",
        "\ttest_graph = Graph(test_list)\n",
        "\ttrain_n = train_graph.vcount()\n",
        "\ttrain_vertices_set = get_vertices_set(train_list) # Need this because we have to only consider target users who are present in this train_vertices_set\n",
        "\ttest_vertices_set = get_vertices_set(test_list) # Set of target users\n",
        "\n",
        "\t# build a special dict that is like an adjacency list\n",
        "\tkatzDict = {}\n",
        "\tadjList = train_graph.get_adjlist()\n",
        "\n",
        "\tfor i, l in enumerate(adjList):\n",
        "\t\tkatzDict[i] = l\n",
        "\n",
        "\tsim = [[0 for i in xrange(train_n)] for j in xrange(train_n)]\n",
        "\tfor i in xrange(train_n):\n",
        "\t\tprint (i)\n",
        "         \n",
        "\t\tif i not in train_vertices_set:\n",
        "\t\t\tcontinue\n",
        "\n",
        "\t\tfor j in xrange(i+1, train_n):\n",
        "\t\t\tif j in train_vertices_set:\t\t# TODO: check if we need this\n",
        "\t\t\t\tsim[i][j] = sim[j][i] = katz_similarity(katzDict,i,j)\n",
        "\n",
        "\tprint_precision_and_recall(sim,train_graph,test_graph,test_vertices_set,train_vertices_set)"
      ],
      "execution_count": 0,
      "outputs": []
    },
    {
      "cell_type": "code",
      "metadata": {
        "id": "By7jfMN4o9Oh",
        "colab_type": "code",
        "colab": {}
      },
      "source": [
        "# Implementation of the friendTNS algorithm\n",
        "def friendtns(edge_list, method):\n",
        "\ttrain_list, test_list = split_data(edge_list)\n",
        "\ttrain_graph = Graph(train_list)\n",
        "\ttest_graph = Graph(test_list)\n",
        "\ttrain_n =  train_graph.vcount() # This is maximum of the vertex id + 1\n",
        "\ttrain_vertices_set = get_vertices_set(train_list) # Need this because we have to only consider target users who are present in this train_vertices_set\n",
        "\ttest_vertices_set = get_vertices_set(test_list) # Set of target users\n",
        "\n",
        "\tsim = [[0 for i in range(train_n)] for j in range(train_n)]\n",
        "\tfor i in range(train_n):\n",
        "\t\tfor j in range(train_n):\n",
        "\t\t\tif i!=j and i in train_vertices_set and j in train_vertices_set and train_graph[i,j] != 0:\n",
        "\t\t\t\tsim[i][j] = similarity(train_graph,i,j,method)\n",
        "\n",
        "\n",
        "\t# Calculate Shortest Paths from each vertex to every other vertex in the train_vertices_set\n",
        "\tsp = {}\n",
        "\tfor i in train_vertices_set:\n",
        "\t\tsp[i] = train_graph.get_shortest_paths(i)\n",
        "\n",
        "\t# Extended Sim matrix\n",
        "\tesim = [[0 for i in range(train_n)] for j in range(train_n)]\n",
        "\tfor i in range(train_n):\n",
        "\t\tfor j in range(train_n):\n",
        "\t\t\tif i!=j and i in train_vertices_set and j in train_vertices_set:\n",
        "\t\t\t\tif len(sp[i][j]) == 0: # no path exists\n",
        "\t\t\t\t\tesim[i][j] = 0\n",
        "\t\t\t\telif train_graph[i,j] == 1 and train_graph[j,i] == 1: # are neighbors\n",
        "\t\t\t\t\tesim[i][j] = sim[i][j]\n",
        "\t\t\t\telse:\n",
        "\t\t\t\t\tesim[i][j] = get_sim_product(sim,sp[i][j])\n",
        "\n",
        "\tprint_precision_and_recall(esim,train_graph,test_graph,test_vertices_set,train_vertices_set)\n"
      ],
      "execution_count": 0,
      "outputs": []
    },
    {
      "cell_type": "code",
      "metadata": {
        "id": "vjwzSvD5pI_V",
        "colab_type": "code",
        "colab": {}
      },
      "source": [
        "def main():\n",
        "\t# default-case/ help\n",
        "\tif len(sys.argv) < 3 :\n",
        "\t\tprint (\"python link_prediction.py <common_neighbors/jaccard/adamic_adar/preferential_attachment/katz/friendtns> data_file_path\")\n",
        "\t\texit(1)\n",
        "\n",
        "\t# Command line argument parsing\n",
        "\t# method = \"adamic_adar\"\n",
        "\tdataset_path = \"/content/Link_prediction_social_network/data/facebook_combined.txt\"\n",
        "\tedge_list = get_edge_list(dataset_path)\n",
        " \n",
        "\tmethod = \"common_neighbors\"\n",
        "\tlocal_methods(edge_list,method)\n",
        " \n",
        "\tmethod = \"jaccard\"\n",
        "\tlocal_methods(edge_list,method)\n",
        "\n",
        "\tmethod = \"adamic_adar\"\n",
        "\tlocal_methods(edge_list,method)\n",
        " \n",
        "\tmethod = \"preferential_attachment\"\n",
        "\tlocal_methods(edge_list,method)\n",
        " \n",
        "\t# if method == \"common_neighbors\" or method == \"jaccard\" or method == \"adamic_adar\" or method == \"preferential_attachment\":\n",
        "\t# \tlocal_methods(edge_list,method)\n",
        "\t# elif method == \"katz\":\n",
        "\t# \tkatz(edge_list)\n",
        "\t# elif method == \"friendtns\":\n",
        "\t# \tfriendtns(edge_list,method)\n",
        "\t# else:\n",
        "\t# \tprint (\"python link_prediction.py <common_neighbors/jaccard/adamic_adar/preferential_attachment/katz/friendtns> data_file_path\")\n",
        "\t\n",
        "\tprint(\"preli = \",preli)\n",
        "\tprint(\"reli = \",reli)\n",
        " "
      ],
      "execution_count": 0,
      "outputs": []
    },
    {
      "cell_type": "code",
      "metadata": {
        "id": "XJArYA0upZxt",
        "colab_type": "code",
        "outputId": "bdde0dbb-4832-4373-f3e9-38dd00c8adfe",
        "colab": {
          "base_uri": "https://localhost:8080/",
          "height": 489
        }
      },
      "source": [
        "main()"
      ],
      "execution_count": 28,
      "outputs": [
        {
          "output_type": "stream",
          "text": [
            "('Len of test data ', 22058)\n",
            "('Len of train data ', 66176)\n",
            "('Len of test data ', 22058)\n",
            "('Len of train data ', 66176)\n",
            "Precision is : 0.533048964721\n",
            "Recall is : 0.291877044022\n",
            "('Len of test data ', 22058)\n",
            "('Len of train data ', 66176)\n",
            "('Len of test data ', 22058)\n",
            "('Len of train data ', 66176)\n",
            "Precision is : 0.471074380165\n",
            "Recall is : 0.243647761369\n",
            "('Len of test data ', 22058)\n",
            "('Len of train data ', 66176)\n",
            "('Len of test data ', 22058)\n",
            "('Len of train data ', 66176)\n",
            "Precision is : 0.55199058029\n",
            "Recall is : 0.30656862339\n",
            "('Len of test data ', 22058)\n",
            "('Len of train data ', 66176)\n",
            "('Len of test data ', 22058)\n",
            "('Len of train data ', 66176)\n",
            "Precision is : 0.0497511774638\n",
            "Recall is : 0.0283694963578\n",
            "('preli = ', [0.5330489647205163, 0.4710743801652875, 0.5519905802896975, 0.04975117746378716])\n",
            "('reli = ', [0.2918770440223591, 0.2436477613686059, 0.3065686233898653, 0.028369496357833042])\n"
          ],
          "name": "stdout"
        }
      ]
    },
    {
      "cell_type": "code",
      "metadata": {
        "id": "lBhBXn4Sbx8s",
        "colab_type": "code",
        "outputId": "a06ee99b-d9cf-4a78-869b-3a32e2581fab",
        "colab": {
          "base_uri": "https://localhost:8080/",
          "height": 295
        }
      },
      "source": [
        "import matplotlib.pyplot as plt\n",
        "preli.append(0.564150047483)\n",
        "reli.append(0.197423074093)\n",
        "plt.xlabel(\"Precision\")\n",
        "plt.ylabel(\"Recall\")\n",
        "plt.title(\"Precision vs Recall\")\n",
        "plt.plot(preli[0],reli[0],'+',label = \"common_neighbors\")\n",
        "plt.plot(preli[1],reli[1],'v',label = \"jaccard\")\n",
        "plt.plot(preli[2],reli[2],'D',label = \"adamic-adar\")\n",
        "plt.plot(preli[3],reli[3],'p',label = \"preferential attachment\")\n",
        "plt.plot(preli[4],reli[4],'1',label = \"katz\")\n",
        "plt.legend()\n",
        "plt.show()"
      ],
      "execution_count": 29,
      "outputs": [
        {
          "output_type": "display_data",
          "data": {
            "image/png": "[encoded data removed]",
            "text/plain": [
              "<Figure size 432x288 with 1 Axes>"
            ]
          },
          "metadata": {
            "tags": []
          }
        }
      ]
    },
    {
      "cell_type": "code",
      "metadata": {
        "id": "1DHI8iSEgHgo",
        "colab_type": "code",
        "colab": {}
      },
      "source": [
        ""
      ],
      "execution_count": 0,
      "outputs": []
    },
    {
      "cell_type": "code",
      "metadata": {
        "id": "n5CPLE5ygFLI",
        "colab_type": "code",
        "colab": {}
      },
      "source": [
        ""
      ],
      "execution_count": 0,
      "outputs": []
    },
    {
      "cell_type": "code",
      "metadata": {
        "id": "BFPJ_HS7ASX4",
        "colab_type": "code",
        "colab": {}
      },
      "source": [
        ""
      ],
      "execution_count": 0,
      "outputs": []
    },
    {
      "cell_type": "code",
      "metadata": {
        "id": "G2bfLjpJ996u",
        "colab_type": "code",
        "colab": {}
      },
      "source": [
        ""
      ],
      "execution_count": 0,
      "outputs": []
    },
    {
      "cell_type": "code",
      "metadata": {
        "id": "2Djlnt_JsiTz",
        "colab_type": "code",
        "colab": {}
      },
      "source": [
        ""
      ],
      "execution_count": 0,
      "outputs": []
    },
    {
      "cell_type": "code",
      "metadata": {
        "id": "rSDBswGhsGdK",
        "colab_type": "code",
        "colab": {}
      },
      "source": [
        ""
      ],
      "execution_count": 0,
      "outputs": []
    },
    {
      "cell_type": "code",
      "metadata": {
        "id": "_NwM1KMNrtcS",
        "colab_type": "code",
        "colab": {}
      },
      "source": [
        ""
      ],
      "execution_count": 0,
      "outputs": []
    },
    {
      "cell_type": "code",
      "metadata": {
        "id": "PYT3o1IiqmLr",
        "colab_type": "code",
        "colab": {}
      },
      "source": [
        ""
      ],
      "execution_count": 0,
      "outputs": []
    },
    {
      "cell_type": "code",
      "metadata": {
        "id": "SuAmm8GqqZpi",
        "colab_type": "code",
        "colab": {}
      },
      "source": [
        ""
      ],
      "execution_count": 0,
      "outputs": []
    },
    {
      "cell_type": "code",
      "metadata": {
        "id": "pTg2iQ0bqXqM",
        "colab_type": "code",
        "colab": {}
      },
      "source": [
        ""
      ],
      "execution_count": 0,
      "outputs": []
    },
    {
      "cell_type": "code",
      "metadata": {
        "id": "Aouu9jVyqU_C",
        "colab_type": "code",
        "colab": {}
      },
      "source": [
        ""
      ],
      "execution_count": 0,
      "outputs": []
    },
    {
      "cell_type": "code",
      "metadata": {
        "id": "qy19u3xDqSWz",
        "colab_type": "code",
        "colab": {}
      },
      "source": [
        ""
      ],
      "execution_count": 0,
      "outputs": []
    },
    {
      "cell_type": "code",
      "metadata": {
        "id": "xCWJd4PLqCWC",
        "colab_type": "code",
        "colab": {}
      },
      "source": [
        ""
      ],
      "execution_count": 0,
      "outputs": []
    },
    {
      "cell_type": "code",
      "metadata": {
        "id": "UVfh0BQHp8Wa",
        "colab_type": "code",
        "colab": {}
      },
      "source": [
        ""
      ],
      "execution_count": 0,
      "outputs": []
    },
    {
      "cell_type": "code",
      "metadata": {
        "id": "w12xonchp7A9",
        "colab_type": "code",
        "colab": {}
      },
      "source": [
        ""
      ],
      "execution_count": 0,
      "outputs": []
    },
    {
      "cell_type": "code",
      "metadata": {
        "id": "M4-nu7RkpwJz",
        "colab_type": "code",
        "colab": {}
      },
      "source": [
        ""
      ],
      "execution_count": 0,
      "outputs": []
    },
    {
      "cell_type": "code",
      "metadata": {
        "id": "MOPYHjgQpRqG",
        "colab_type": "code",
        "colab": {}
      },
      "source": [
        ""
      ],
      "execution_count": 0,
      "outputs": []
    },
    {
      "cell_type": "code",
      "metadata": {
        "id": "WWkhT5wgpVhY",
        "colab_type": "code",
        "colab": {}
      },
      "source": [
        ""
      ],
      "execution_count": 0,
      "outputs": []
    }
  ]
}